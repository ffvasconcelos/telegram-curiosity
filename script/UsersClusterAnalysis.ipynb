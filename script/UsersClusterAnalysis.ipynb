{
 "cells": [
  {
   "cell_type": "markdown",
   "source": [
    "# Análise de clusters de usuários"
   ],
   "metadata": {
    "collapsed": false
   },
   "id": "d5feb3d5daf9f2db"
  },
  {
   "cell_type": "code",
   "execution_count": 4,
   "outputs": [],
   "source": [
    "import os\n",
    "\n",
    "import pandas as pd\n",
    "from UbmgAssemble import centroids_to_matrix"
   ],
   "metadata": {
    "collapsed": false,
    "ExecuteTime": {
     "end_time": "2023-10-27T18:47:45.977222672Z",
     "start_time": "2023-10-27T18:47:45.974068946Z"
    }
   },
   "id": "f0f880ecc1af656a"
  },
  {
   "cell_type": "code",
   "execution_count": 10,
   "id": "initial_id",
   "metadata": {
    "collapsed": true,
    "ExecuteTime": {
     "end_time": "2023-10-27T18:52:05.825830186Z",
     "start_time": "2023-10-27T18:52:05.742894873Z"
    }
   },
   "outputs": [],
   "source": [
    "n_clusters = 4\n",
    "clusters = []\n",
    "\n",
    "for i in range(n_clusters):\n",
    "    clusters.append(pd.read_csv('./ubmg-data/dataframe/users-cluster-' + str(i) + '.tsv', sep='\\t'))\n",
    "    "
   ]
  },
  {
   "cell_type": "code",
   "execution_count": 11,
   "outputs": [
    {
     "data": {
      "text/plain": "       Unnamed: 0.2  Unnamed: 0.1  Unnamed: 0          0-0          0-1  \\\ncount   2230.000000   2230.000000      2230.0  2230.000000  2230.000000   \nmean    8258.604036   8258.604036         0.0     0.882874     0.032888   \nstd     1829.140233   1829.140233         0.0     0.187553     0.085149   \nmin     4526.000000   4526.000000         0.0     0.000000     0.000000   \n25%     6813.250000   6813.250000         0.0     0.879168     0.000000   \n50%     8137.500000   8137.500000         0.0     0.944444     0.007667   \n75%     9845.750000   9845.750000         0.0     0.972810     0.034409   \nmax    11691.000000  11691.000000         0.0     1.000000     1.000000   \n\n               0-2          1-0          1-1          1-2          2-0  \\\ncount  2230.000000  2230.000000  2230.000000  2230.000000  2230.000000   \nmean      0.064956     0.208219     0.623701     0.123685     0.168101   \nstd       0.111381     0.263792     0.324649     0.199831     0.144828   \nmin       0.000000     0.000000     0.000000     0.000000     0.000000   \n25%       0.010309     0.022461     0.500000     0.000000     0.047619   \n50%       0.031250     0.107143     0.750000     0.038462     0.133333   \n75%       0.069942     0.285714     0.888889     0.159222     0.263158   \nmax       1.000000     1.000000     1.000000     1.000000     0.800000   \n\n               2-1          2-2  labels  \ncount  2230.000000  2230.000000  2230.0  \nmean      0.035228     0.796670     0.0  \nstd       0.071857     0.149940     0.0  \nmin       0.000000     0.200000     0.0  \n25%       0.000000     0.680000     0.0  \n50%       0.000000     0.827586     0.0  \n75%       0.037975     0.916667     0.0  \nmax       0.500000     1.000000     0.0  ",
      "text/html": "<div>\n<style scoped>\n    .dataframe tbody tr th:only-of-type {\n        vertical-align: middle;\n    }\n\n    .dataframe tbody tr th {\n        vertical-align: top;\n    }\n\n    .dataframe thead th {\n        text-align: right;\n    }\n</style>\n<table border=\"1\" class=\"dataframe\">\n  <thead>\n    <tr style=\"text-align: right;\">\n      <th></th>\n      <th>Unnamed: 0.2</th>\n      <th>Unnamed: 0.1</th>\n      <th>Unnamed: 0</th>\n      <th>0-0</th>\n      <th>0-1</th>\n      <th>0-2</th>\n      <th>1-0</th>\n      <th>1-1</th>\n      <th>1-2</th>\n      <th>2-0</th>\n      <th>2-1</th>\n      <th>2-2</th>\n      <th>labels</th>\n    </tr>\n  </thead>\n  <tbody>\n    <tr>\n      <th>count</th>\n      <td>2230.000000</td>\n      <td>2230.000000</td>\n      <td>2230.0</td>\n      <td>2230.000000</td>\n      <td>2230.000000</td>\n      <td>2230.000000</td>\n      <td>2230.000000</td>\n      <td>2230.000000</td>\n      <td>2230.000000</td>\n      <td>2230.000000</td>\n      <td>2230.000000</td>\n      <td>2230.000000</td>\n      <td>2230.0</td>\n    </tr>\n    <tr>\n      <th>mean</th>\n      <td>8258.604036</td>\n      <td>8258.604036</td>\n      <td>0.0</td>\n      <td>0.882874</td>\n      <td>0.032888</td>\n      <td>0.064956</td>\n      <td>0.208219</td>\n      <td>0.623701</td>\n      <td>0.123685</td>\n      <td>0.168101</td>\n      <td>0.035228</td>\n      <td>0.796670</td>\n      <td>0.0</td>\n    </tr>\n    <tr>\n      <th>std</th>\n      <td>1829.140233</td>\n      <td>1829.140233</td>\n      <td>0.0</td>\n      <td>0.187553</td>\n      <td>0.085149</td>\n      <td>0.111381</td>\n      <td>0.263792</td>\n      <td>0.324649</td>\n      <td>0.199831</td>\n      <td>0.144828</td>\n      <td>0.071857</td>\n      <td>0.149940</td>\n      <td>0.0</td>\n    </tr>\n    <tr>\n      <th>min</th>\n      <td>4526.000000</td>\n      <td>4526.000000</td>\n      <td>0.0</td>\n      <td>0.000000</td>\n      <td>0.000000</td>\n      <td>0.000000</td>\n      <td>0.000000</td>\n      <td>0.000000</td>\n      <td>0.000000</td>\n      <td>0.000000</td>\n      <td>0.000000</td>\n      <td>0.200000</td>\n      <td>0.0</td>\n    </tr>\n    <tr>\n      <th>25%</th>\n      <td>6813.250000</td>\n      <td>6813.250000</td>\n      <td>0.0</td>\n      <td>0.879168</td>\n      <td>0.000000</td>\n      <td>0.010309</td>\n      <td>0.022461</td>\n      <td>0.500000</td>\n      <td>0.000000</td>\n      <td>0.047619</td>\n      <td>0.000000</td>\n      <td>0.680000</td>\n      <td>0.0</td>\n    </tr>\n    <tr>\n      <th>50%</th>\n      <td>8137.500000</td>\n      <td>8137.500000</td>\n      <td>0.0</td>\n      <td>0.944444</td>\n      <td>0.007667</td>\n      <td>0.031250</td>\n      <td>0.107143</td>\n      <td>0.750000</td>\n      <td>0.038462</td>\n      <td>0.133333</td>\n      <td>0.000000</td>\n      <td>0.827586</td>\n      <td>0.0</td>\n    </tr>\n    <tr>\n      <th>75%</th>\n      <td>9845.750000</td>\n      <td>9845.750000</td>\n      <td>0.0</td>\n      <td>0.972810</td>\n      <td>0.034409</td>\n      <td>0.069942</td>\n      <td>0.285714</td>\n      <td>0.888889</td>\n      <td>0.159222</td>\n      <td>0.263158</td>\n      <td>0.037975</td>\n      <td>0.916667</td>\n      <td>0.0</td>\n    </tr>\n    <tr>\n      <th>max</th>\n      <td>11691.000000</td>\n      <td>11691.000000</td>\n      <td>0.0</td>\n      <td>1.000000</td>\n      <td>1.000000</td>\n      <td>1.000000</td>\n      <td>1.000000</td>\n      <td>1.000000</td>\n      <td>1.000000</td>\n      <td>0.800000</td>\n      <td>0.500000</td>\n      <td>1.000000</td>\n      <td>0.0</td>\n    </tr>\n  </tbody>\n</table>\n</div>"
     },
     "execution_count": 11,
     "metadata": {},
     "output_type": "execute_result"
    }
   ],
   "source": [
    "clusters[0].describe()"
   ],
   "metadata": {
    "collapsed": false,
    "ExecuteTime": {
     "end_time": "2023-10-27T18:52:06.541530803Z",
     "start_time": "2023-10-27T18:52:06.441858420Z"
    }
   },
   "id": "142fb95db175777a"
  },
  {
   "cell_type": "code",
   "execution_count": 12,
   "outputs": [
    {
     "data": {
      "text/plain": "       Unnamed: 0.2  Unnamed: 0.1  Unnamed: 0          0-0          0-1  \\\ncount   3234.000000   3234.000000      3234.0  3234.000000  3234.000000   \nmean    7743.926407   7743.926407         0.0     0.974703     0.016097   \nstd     2778.890585   2778.890585         0.0     0.054453     0.042952   \nmin       74.000000     74.000000         0.0     0.555556     0.000000   \n25%     5811.250000   5811.250000         0.0     0.972222     0.000000   \n50%     8159.500000   8159.500000         0.0     1.000000     0.000000   \n75%    10256.250000  10256.250000         0.0     1.000000     0.013514   \nmax    11692.000000  11692.000000         0.0     1.000000     0.444444   \n\n               0-2          1-0          1-1          1-2          2-0  \\\ncount  3234.000000  3234.000000  3234.000000  3234.000000  3234.000000   \nmean      0.009200     0.465956     0.487413     0.002104     0.024761   \nstd       0.033670     0.397745     0.399026     0.022363     0.085965   \nmin       0.000000     0.000000     0.000000     0.000000     0.000000   \n25%       0.000000     0.083333     0.000000     0.000000     0.000000   \n50%       0.000000     0.333333     0.500000     0.000000     0.000000   \n75%       0.000000     1.000000     0.888889     0.000000     0.000000   \nmax       0.367347     1.000000     1.000000     0.500000     0.514286   \n\n               2-1          2-2  labels  \ncount  3234.000000  3234.000000  3234.0  \nmean      0.022847     0.069585     1.0  \nstd       0.137385     0.217785     0.0  \nmin       0.000000     0.000000     1.0  \n25%       0.000000     0.000000     1.0  \n50%       0.000000     0.000000     1.0  \n75%       0.000000     0.000000     1.0  \nmax       1.000000     1.000000     1.0  ",
      "text/html": "<div>\n<style scoped>\n    .dataframe tbody tr th:only-of-type {\n        vertical-align: middle;\n    }\n\n    .dataframe tbody tr th {\n        vertical-align: top;\n    }\n\n    .dataframe thead th {\n        text-align: right;\n    }\n</style>\n<table border=\"1\" class=\"dataframe\">\n  <thead>\n    <tr style=\"text-align: right;\">\n      <th></th>\n      <th>Unnamed: 0.2</th>\n      <th>Unnamed: 0.1</th>\n      <th>Unnamed: 0</th>\n      <th>0-0</th>\n      <th>0-1</th>\n      <th>0-2</th>\n      <th>1-0</th>\n      <th>1-1</th>\n      <th>1-2</th>\n      <th>2-0</th>\n      <th>2-1</th>\n      <th>2-2</th>\n      <th>labels</th>\n    </tr>\n  </thead>\n  <tbody>\n    <tr>\n      <th>count</th>\n      <td>3234.000000</td>\n      <td>3234.000000</td>\n      <td>3234.0</td>\n      <td>3234.000000</td>\n      <td>3234.000000</td>\n      <td>3234.000000</td>\n      <td>3234.000000</td>\n      <td>3234.000000</td>\n      <td>3234.000000</td>\n      <td>3234.000000</td>\n      <td>3234.000000</td>\n      <td>3234.000000</td>\n      <td>3234.0</td>\n    </tr>\n    <tr>\n      <th>mean</th>\n      <td>7743.926407</td>\n      <td>7743.926407</td>\n      <td>0.0</td>\n      <td>0.974703</td>\n      <td>0.016097</td>\n      <td>0.009200</td>\n      <td>0.465956</td>\n      <td>0.487413</td>\n      <td>0.002104</td>\n      <td>0.024761</td>\n      <td>0.022847</td>\n      <td>0.069585</td>\n      <td>1.0</td>\n    </tr>\n    <tr>\n      <th>std</th>\n      <td>2778.890585</td>\n      <td>2778.890585</td>\n      <td>0.0</td>\n      <td>0.054453</td>\n      <td>0.042952</td>\n      <td>0.033670</td>\n      <td>0.397745</td>\n      <td>0.399026</td>\n      <td>0.022363</td>\n      <td>0.085965</td>\n      <td>0.137385</td>\n      <td>0.217785</td>\n      <td>0.0</td>\n    </tr>\n    <tr>\n      <th>min</th>\n      <td>74.000000</td>\n      <td>74.000000</td>\n      <td>0.0</td>\n      <td>0.555556</td>\n      <td>0.000000</td>\n      <td>0.000000</td>\n      <td>0.000000</td>\n      <td>0.000000</td>\n      <td>0.000000</td>\n      <td>0.000000</td>\n      <td>0.000000</td>\n      <td>0.000000</td>\n      <td>1.0</td>\n    </tr>\n    <tr>\n      <th>25%</th>\n      <td>5811.250000</td>\n      <td>5811.250000</td>\n      <td>0.0</td>\n      <td>0.972222</td>\n      <td>0.000000</td>\n      <td>0.000000</td>\n      <td>0.083333</td>\n      <td>0.000000</td>\n      <td>0.000000</td>\n      <td>0.000000</td>\n      <td>0.000000</td>\n      <td>0.000000</td>\n      <td>1.0</td>\n    </tr>\n    <tr>\n      <th>50%</th>\n      <td>8159.500000</td>\n      <td>8159.500000</td>\n      <td>0.0</td>\n      <td>1.000000</td>\n      <td>0.000000</td>\n      <td>0.000000</td>\n      <td>0.333333</td>\n      <td>0.500000</td>\n      <td>0.000000</td>\n      <td>0.000000</td>\n      <td>0.000000</td>\n      <td>0.000000</td>\n      <td>1.0</td>\n    </tr>\n    <tr>\n      <th>75%</th>\n      <td>10256.250000</td>\n      <td>10256.250000</td>\n      <td>0.0</td>\n      <td>1.000000</td>\n      <td>0.013514</td>\n      <td>0.000000</td>\n      <td>1.000000</td>\n      <td>0.888889</td>\n      <td>0.000000</td>\n      <td>0.000000</td>\n      <td>0.000000</td>\n      <td>0.000000</td>\n      <td>1.0</td>\n    </tr>\n    <tr>\n      <th>max</th>\n      <td>11692.000000</td>\n      <td>11692.000000</td>\n      <td>0.0</td>\n      <td>1.000000</td>\n      <td>0.444444</td>\n      <td>0.367347</td>\n      <td>1.000000</td>\n      <td>1.000000</td>\n      <td>0.500000</td>\n      <td>0.514286</td>\n      <td>1.000000</td>\n      <td>1.000000</td>\n      <td>1.0</td>\n    </tr>\n  </tbody>\n</table>\n</div>"
     },
     "execution_count": 12,
     "metadata": {},
     "output_type": "execute_result"
    }
   ],
   "source": [
    "clusters[1].describe()"
   ],
   "metadata": {
    "collapsed": false,
    "ExecuteTime": {
     "end_time": "2023-10-27T18:52:07.105004802Z",
     "start_time": "2023-10-27T18:52:06.944664376Z"
    }
   },
   "id": "8dd965b4dec18f14"
  },
  {
   "cell_type": "code",
   "execution_count": 13,
   "outputs": [
    {
     "data": {
      "text/plain": "       Unnamed: 0.2  Unnamed: 0.1  Unnamed: 0          0-0          0-1  \\\ncount   1912.000000   1912.000000      1912.0  1912.000000  1912.000000   \nmean    6562.475941   6562.475941         0.0     0.927090     0.026026   \nstd     2923.534307   2923.534307         0.0     0.075555     0.054721   \nmin       44.000000     44.000000         0.0     0.000000     0.000000   \n25%     4225.750000   4225.750000         0.0     0.906977     0.000000   \n50%     6515.000000   6515.000000         0.0     0.951829     0.007722   \n75%     9250.250000   9250.250000         0.0     0.973684     0.030769   \nmax    11694.000000  11694.000000         0.0     1.000000     1.000000   \n\n               0-2          1-0          1-1          1-2          2-0  \\\ncount  1912.000000  1912.000000  1912.000000  1912.000000  1912.000000   \nmean      0.046884     0.493381     0.400137     0.052089     0.777643   \nstd       0.051826     0.365684     0.346364     0.137348     0.223594   \nmin       0.000000     0.000000     0.000000     0.000000     0.400000   \n25%       0.015385     0.166667     0.000000     0.000000     0.500000   \n50%       0.031250     0.500000     0.500000     0.000000     0.763889   \n75%       0.061303     1.000000     0.714286     0.013440     1.000000   \nmax       0.388889     1.000000     0.994186     1.000000     1.000000   \n\n               2-1          2-2  labels  \ncount  1912.000000  1912.000000  1912.0  \nmean      0.018418     0.203938     2.0  \nstd       0.073806     0.216409     0.0  \nmin       0.000000     0.000000     2.0  \n25%       0.000000     0.000000     2.0  \n50%       0.000000     0.125000     2.0  \n75%       0.000000     0.444444     2.0  \nmax       0.500000     0.541667     2.0  ",
      "text/html": "<div>\n<style scoped>\n    .dataframe tbody tr th:only-of-type {\n        vertical-align: middle;\n    }\n\n    .dataframe tbody tr th {\n        vertical-align: top;\n    }\n\n    .dataframe thead th {\n        text-align: right;\n    }\n</style>\n<table border=\"1\" class=\"dataframe\">\n  <thead>\n    <tr style=\"text-align: right;\">\n      <th></th>\n      <th>Unnamed: 0.2</th>\n      <th>Unnamed: 0.1</th>\n      <th>Unnamed: 0</th>\n      <th>0-0</th>\n      <th>0-1</th>\n      <th>0-2</th>\n      <th>1-0</th>\n      <th>1-1</th>\n      <th>1-2</th>\n      <th>2-0</th>\n      <th>2-1</th>\n      <th>2-2</th>\n      <th>labels</th>\n    </tr>\n  </thead>\n  <tbody>\n    <tr>\n      <th>count</th>\n      <td>1912.000000</td>\n      <td>1912.000000</td>\n      <td>1912.0</td>\n      <td>1912.000000</td>\n      <td>1912.000000</td>\n      <td>1912.000000</td>\n      <td>1912.000000</td>\n      <td>1912.000000</td>\n      <td>1912.000000</td>\n      <td>1912.000000</td>\n      <td>1912.000000</td>\n      <td>1912.000000</td>\n      <td>1912.0</td>\n    </tr>\n    <tr>\n      <th>mean</th>\n      <td>6562.475941</td>\n      <td>6562.475941</td>\n      <td>0.0</td>\n      <td>0.927090</td>\n      <td>0.026026</td>\n      <td>0.046884</td>\n      <td>0.493381</td>\n      <td>0.400137</td>\n      <td>0.052089</td>\n      <td>0.777643</td>\n      <td>0.018418</td>\n      <td>0.203938</td>\n      <td>2.0</td>\n    </tr>\n    <tr>\n      <th>std</th>\n      <td>2923.534307</td>\n      <td>2923.534307</td>\n      <td>0.0</td>\n      <td>0.075555</td>\n      <td>0.054721</td>\n      <td>0.051826</td>\n      <td>0.365684</td>\n      <td>0.346364</td>\n      <td>0.137348</td>\n      <td>0.223594</td>\n      <td>0.073806</td>\n      <td>0.216409</td>\n      <td>0.0</td>\n    </tr>\n    <tr>\n      <th>min</th>\n      <td>44.000000</td>\n      <td>44.000000</td>\n      <td>0.0</td>\n      <td>0.000000</td>\n      <td>0.000000</td>\n      <td>0.000000</td>\n      <td>0.000000</td>\n      <td>0.000000</td>\n      <td>0.000000</td>\n      <td>0.400000</td>\n      <td>0.000000</td>\n      <td>0.000000</td>\n      <td>2.0</td>\n    </tr>\n    <tr>\n      <th>25%</th>\n      <td>4225.750000</td>\n      <td>4225.750000</td>\n      <td>0.0</td>\n      <td>0.906977</td>\n      <td>0.000000</td>\n      <td>0.015385</td>\n      <td>0.166667</td>\n      <td>0.000000</td>\n      <td>0.000000</td>\n      <td>0.500000</td>\n      <td>0.000000</td>\n      <td>0.000000</td>\n      <td>2.0</td>\n    </tr>\n    <tr>\n      <th>50%</th>\n      <td>6515.000000</td>\n      <td>6515.000000</td>\n      <td>0.0</td>\n      <td>0.951829</td>\n      <td>0.007722</td>\n      <td>0.031250</td>\n      <td>0.500000</td>\n      <td>0.500000</td>\n      <td>0.000000</td>\n      <td>0.763889</td>\n      <td>0.000000</td>\n      <td>0.125000</td>\n      <td>2.0</td>\n    </tr>\n    <tr>\n      <th>75%</th>\n      <td>9250.250000</td>\n      <td>9250.250000</td>\n      <td>0.0</td>\n      <td>0.973684</td>\n      <td>0.030769</td>\n      <td>0.061303</td>\n      <td>1.000000</td>\n      <td>0.714286</td>\n      <td>0.013440</td>\n      <td>1.000000</td>\n      <td>0.000000</td>\n      <td>0.444444</td>\n      <td>2.0</td>\n    </tr>\n    <tr>\n      <th>max</th>\n      <td>11694.000000</td>\n      <td>11694.000000</td>\n      <td>0.0</td>\n      <td>1.000000</td>\n      <td>1.000000</td>\n      <td>0.388889</td>\n      <td>1.000000</td>\n      <td>0.994186</td>\n      <td>1.000000</td>\n      <td>1.000000</td>\n      <td>0.500000</td>\n      <td>0.541667</td>\n      <td>2.0</td>\n    </tr>\n  </tbody>\n</table>\n</div>"
     },
     "execution_count": 13,
     "metadata": {},
     "output_type": "execute_result"
    }
   ],
   "source": [
    "clusters[2].describe()"
   ],
   "metadata": {
    "collapsed": false,
    "ExecuteTime": {
     "end_time": "2023-10-27T18:52:07.807072286Z",
     "start_time": "2023-10-27T18:52:07.709381136Z"
    }
   },
   "id": "cfc2d474cda25e86"
  },
  {
   "cell_type": "code",
   "execution_count": 14,
   "outputs": [
    {
     "data": {
      "text/plain": "       Unnamed: 0.2  Unnamed: 0.1  Unnamed: 0          0-0          0-1  \\\ncount   4319.000000   4319.000000      4319.0  4319.000000  4319.000000   \nmean    2864.706182   2864.706182         0.0     0.762225     0.058657   \nstd     2181.071392   2181.071392         0.0     0.319096     0.130780   \nmin        0.000000      0.000000         0.0     0.000000     0.000000   \n25%     1155.500000   1155.500000         0.0     0.761032     0.000000   \n50%     2441.000000   2441.000000         0.0     0.900000     0.018519   \n75%     4144.500000   4144.500000         0.0     0.954600     0.058824   \nmax    11693.000000  11693.000000         0.0     1.000000     1.000000   \n\n               0-2          1-0          1-1          1-2          2-0  \\\ncount  4319.000000  4319.000000  4319.000000  4319.000000  4319.000000   \nmean      0.064971     0.123083     0.725050     0.118527     0.127853   \nstd       0.113839     0.157304     0.294904     0.193266     0.149904   \nmin       0.000000     0.000000     0.000000     0.000000     0.000000   \n25%       0.000000     0.010363     0.600000     0.000000     0.000000   \n50%       0.025000     0.058824     0.842105     0.041667     0.074074   \n75%       0.081081     0.166667     0.937500     0.142857     0.214286   \nmax       1.000000     1.000000     1.000000     1.000000     1.000000   \n\n               2-1          2-2  labels  \ncount  4319.000000  4319.000000  4319.0  \nmean      0.069402     0.604782     3.0  \nstd       0.143066     0.345327     0.0  \nmin       0.000000     0.000000     3.0  \n25%       0.000000     0.476190     3.0  \n50%       0.015686     0.733333     3.0  \n75%       0.076923     0.875000     3.0  \nmax       1.000000     1.000000     3.0  ",
      "text/html": "<div>\n<style scoped>\n    .dataframe tbody tr th:only-of-type {\n        vertical-align: middle;\n    }\n\n    .dataframe tbody tr th {\n        vertical-align: top;\n    }\n\n    .dataframe thead th {\n        text-align: right;\n    }\n</style>\n<table border=\"1\" class=\"dataframe\">\n  <thead>\n    <tr style=\"text-align: right;\">\n      <th></th>\n      <th>Unnamed: 0.2</th>\n      <th>Unnamed: 0.1</th>\n      <th>Unnamed: 0</th>\n      <th>0-0</th>\n      <th>0-1</th>\n      <th>0-2</th>\n      <th>1-0</th>\n      <th>1-1</th>\n      <th>1-2</th>\n      <th>2-0</th>\n      <th>2-1</th>\n      <th>2-2</th>\n      <th>labels</th>\n    </tr>\n  </thead>\n  <tbody>\n    <tr>\n      <th>count</th>\n      <td>4319.000000</td>\n      <td>4319.000000</td>\n      <td>4319.0</td>\n      <td>4319.000000</td>\n      <td>4319.000000</td>\n      <td>4319.000000</td>\n      <td>4319.000000</td>\n      <td>4319.000000</td>\n      <td>4319.000000</td>\n      <td>4319.000000</td>\n      <td>4319.000000</td>\n      <td>4319.000000</td>\n      <td>4319.0</td>\n    </tr>\n    <tr>\n      <th>mean</th>\n      <td>2864.706182</td>\n      <td>2864.706182</td>\n      <td>0.0</td>\n      <td>0.762225</td>\n      <td>0.058657</td>\n      <td>0.064971</td>\n      <td>0.123083</td>\n      <td>0.725050</td>\n      <td>0.118527</td>\n      <td>0.127853</td>\n      <td>0.069402</td>\n      <td>0.604782</td>\n      <td>3.0</td>\n    </tr>\n    <tr>\n      <th>std</th>\n      <td>2181.071392</td>\n      <td>2181.071392</td>\n      <td>0.0</td>\n      <td>0.319096</td>\n      <td>0.130780</td>\n      <td>0.113839</td>\n      <td>0.157304</td>\n      <td>0.294904</td>\n      <td>0.193266</td>\n      <td>0.149904</td>\n      <td>0.143066</td>\n      <td>0.345327</td>\n      <td>0.0</td>\n    </tr>\n    <tr>\n      <th>min</th>\n      <td>0.000000</td>\n      <td>0.000000</td>\n      <td>0.0</td>\n      <td>0.000000</td>\n      <td>0.000000</td>\n      <td>0.000000</td>\n      <td>0.000000</td>\n      <td>0.000000</td>\n      <td>0.000000</td>\n      <td>0.000000</td>\n      <td>0.000000</td>\n      <td>0.000000</td>\n      <td>3.0</td>\n    </tr>\n    <tr>\n      <th>25%</th>\n      <td>1155.500000</td>\n      <td>1155.500000</td>\n      <td>0.0</td>\n      <td>0.761032</td>\n      <td>0.000000</td>\n      <td>0.000000</td>\n      <td>0.010363</td>\n      <td>0.600000</td>\n      <td>0.000000</td>\n      <td>0.000000</td>\n      <td>0.000000</td>\n      <td>0.476190</td>\n      <td>3.0</td>\n    </tr>\n    <tr>\n      <th>50%</th>\n      <td>2441.000000</td>\n      <td>2441.000000</td>\n      <td>0.0</td>\n      <td>0.900000</td>\n      <td>0.018519</td>\n      <td>0.025000</td>\n      <td>0.058824</td>\n      <td>0.842105</td>\n      <td>0.041667</td>\n      <td>0.074074</td>\n      <td>0.015686</td>\n      <td>0.733333</td>\n      <td>3.0</td>\n    </tr>\n    <tr>\n      <th>75%</th>\n      <td>4144.500000</td>\n      <td>4144.500000</td>\n      <td>0.0</td>\n      <td>0.954600</td>\n      <td>0.058824</td>\n      <td>0.081081</td>\n      <td>0.166667</td>\n      <td>0.937500</td>\n      <td>0.142857</td>\n      <td>0.214286</td>\n      <td>0.076923</td>\n      <td>0.875000</td>\n      <td>3.0</td>\n    </tr>\n    <tr>\n      <th>max</th>\n      <td>11693.000000</td>\n      <td>11693.000000</td>\n      <td>0.0</td>\n      <td>1.000000</td>\n      <td>1.000000</td>\n      <td>1.000000</td>\n      <td>1.000000</td>\n      <td>1.000000</td>\n      <td>1.000000</td>\n      <td>1.000000</td>\n      <td>1.000000</td>\n      <td>1.000000</td>\n      <td>3.0</td>\n    </tr>\n  </tbody>\n</table>\n</div>"
     },
     "execution_count": 14,
     "metadata": {},
     "output_type": "execute_result"
    }
   ],
   "source": [
    "clusters[3].describe()"
   ],
   "metadata": {
    "collapsed": false,
    "ExecuteTime": {
     "end_time": "2023-10-27T18:52:09.275698856Z",
     "start_time": "2023-10-27T18:52:09.189695712Z"
    }
   },
   "id": "4481a4c4c4b18ca3"
  },
  {
   "cell_type": "code",
   "execution_count": 15,
   "outputs": [],
   "source": [
    "means_data = {\n",
    "    'cluster': [],\n",
    "    '0-0': [],\n",
    "    '0-1': [],\n",
    "    '0-2': [],\n",
    "    '1-0': [],\n",
    "    '1-1': [],\n",
    "    '1-2': [],\n",
    "    '2-0': [],\n",
    "    '2-1': [],\n",
    "    '2-2': [],\n",
    "}\n",
    "\n",
    "for i in range(len(clusters)):\n",
    "    means_data['cluster'].append(i)\n",
    "    for j in range(3):\n",
    "        for k in range(3):\n",
    "            means_data[str(j) + '-' + str(k)].append(clusters[i].describe()[str(j) + '-' + str(k)]['mean'])"
   ],
   "metadata": {
    "collapsed": false,
    "ExecuteTime": {
     "end_time": "2023-10-27T18:52:11.737555196Z",
     "start_time": "2023-10-27T18:52:10.206783835Z"
    }
   },
   "id": "16ed80f304a81fa2"
  },
  {
   "cell_type": "code",
   "execution_count": 16,
   "outputs": [
    {
     "data": {
      "text/plain": "   cluster       0-0       0-1       0-2       1-0       1-1       1-2  \\\n0        0  0.882874  0.032888  0.064956  0.208219  0.623701  0.123685   \n1        1  0.974703  0.016097  0.009200  0.465956  0.487413  0.002104   \n2        2  0.927090  0.026026  0.046884  0.493381  0.400137  0.052089   \n3        3  0.762225  0.058657  0.064971  0.123083  0.725050  0.118527   \n\n        2-0       2-1       2-2  \n0  0.168101  0.035228  0.796670  \n1  0.024761  0.022847  0.069585  \n2  0.777643  0.018418  0.203938  \n3  0.127853  0.069402  0.604782  ",
      "text/html": "<div>\n<style scoped>\n    .dataframe tbody tr th:only-of-type {\n        vertical-align: middle;\n    }\n\n    .dataframe tbody tr th {\n        vertical-align: top;\n    }\n\n    .dataframe thead th {\n        text-align: right;\n    }\n</style>\n<table border=\"1\" class=\"dataframe\">\n  <thead>\n    <tr style=\"text-align: right;\">\n      <th></th>\n      <th>cluster</th>\n      <th>0-0</th>\n      <th>0-1</th>\n      <th>0-2</th>\n      <th>1-0</th>\n      <th>1-1</th>\n      <th>1-2</th>\n      <th>2-0</th>\n      <th>2-1</th>\n      <th>2-2</th>\n    </tr>\n  </thead>\n  <tbody>\n    <tr>\n      <th>0</th>\n      <td>0</td>\n      <td>0.882874</td>\n      <td>0.032888</td>\n      <td>0.064956</td>\n      <td>0.208219</td>\n      <td>0.623701</td>\n      <td>0.123685</td>\n      <td>0.168101</td>\n      <td>0.035228</td>\n      <td>0.796670</td>\n    </tr>\n    <tr>\n      <th>1</th>\n      <td>1</td>\n      <td>0.974703</td>\n      <td>0.016097</td>\n      <td>0.009200</td>\n      <td>0.465956</td>\n      <td>0.487413</td>\n      <td>0.002104</td>\n      <td>0.024761</td>\n      <td>0.022847</td>\n      <td>0.069585</td>\n    </tr>\n    <tr>\n      <th>2</th>\n      <td>2</td>\n      <td>0.927090</td>\n      <td>0.026026</td>\n      <td>0.046884</td>\n      <td>0.493381</td>\n      <td>0.400137</td>\n      <td>0.052089</td>\n      <td>0.777643</td>\n      <td>0.018418</td>\n      <td>0.203938</td>\n    </tr>\n    <tr>\n      <th>3</th>\n      <td>3</td>\n      <td>0.762225</td>\n      <td>0.058657</td>\n      <td>0.064971</td>\n      <td>0.123083</td>\n      <td>0.725050</td>\n      <td>0.118527</td>\n      <td>0.127853</td>\n      <td>0.069402</td>\n      <td>0.604782</td>\n    </tr>\n  </tbody>\n</table>\n</div>"
     },
     "execution_count": 16,
     "metadata": {},
     "output_type": "execute_result"
    }
   ],
   "source": [
    "centroids = pd.DataFrame(means_data)\n",
    "\n",
    "centroids.head(n_clusters)"
   ],
   "metadata": {
    "collapsed": false,
    "ExecuteTime": {
     "end_time": "2023-10-27T18:52:11.739593588Z",
     "start_time": "2023-10-27T18:52:11.612267093Z"
    }
   },
   "id": "1acf12718947e188"
  },
  {
   "cell_type": "code",
   "execution_count": 17,
   "outputs": [],
   "source": [
    "if not os.path.exists('./ubmg-data/centroids/'):\n",
    "    os.mkdir('./ubmg-data/centroids/')\n",
    "\n",
    "centroids.to_csv('./ubmg-data/centroids/centroids-df.tsv', sep='\\t')"
   ],
   "metadata": {
    "collapsed": false,
    "ExecuteTime": {
     "end_time": "2023-10-27T18:52:11.763249765Z",
     "start_time": "2023-10-27T18:52:11.726750035Z"
    }
   },
   "id": "aa673b46196b5a09"
  },
  {
   "cell_type": "code",
   "execution_count": 18,
   "outputs": [
    {
     "name": "stdout",
     "output_type": "stream",
     "text": [
      "Saving matrix 0\n",
      "Saving matrix 1\n",
      "Saving matrix 2\n",
      "Saving matrix 3\n"
     ]
    }
   ],
   "source": [
    "centroids_to_matrix('./ubmg-data/centroids/centroids-df.tsv', './ubmg-data/centroids/', n_clusters)"
   ],
   "metadata": {
    "collapsed": false,
    "ExecuteTime": {
     "end_time": "2023-10-27T18:52:12.646423403Z",
     "start_time": "2023-10-27T18:52:12.603783734Z"
    }
   },
   "id": "48e9c36c5d3e03fc"
  },
  {
   "cell_type": "code",
   "execution_count": null,
   "outputs": [],
   "source": [],
   "metadata": {
    "collapsed": false
   },
   "id": "e44f1e16a5c302f9"
  }
 ],
 "metadata": {
  "kernelspec": {
   "display_name": "Python 3",
   "language": "python",
   "name": "python3"
  },
  "language_info": {
   "codemirror_mode": {
    "name": "ipython",
    "version": 2
   },
   "file_extension": ".py",
   "mimetype": "text/x-python",
   "name": "python",
   "nbconvert_exporter": "python",
   "pygments_lexer": "ipython2",
   "version": "2.7.6"
  }
 },
 "nbformat": 4,
 "nbformat_minor": 5
}
