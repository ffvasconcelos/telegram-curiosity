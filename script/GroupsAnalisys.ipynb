{
 "cells": [
  {
   "cell_type": "markdown",
   "source": [
    "# Análise de Grupos"
   ],
   "metadata": {
    "collapsed": false
   },
   "id": "da1972a2d97817eb"
  },
  {
   "cell_type": "code",
   "execution_count": 1,
   "id": "initial_id",
   "metadata": {
    "collapsed": true,
    "ExecuteTime": {
     "end_time": "2023-11-03T19:03:27.262510182Z",
     "start_time": "2023-11-03T19:03:26.952848613Z"
    }
   },
   "outputs": [],
   "source": [
    "import pandas as pd"
   ]
  },
  {
   "cell_type": "markdown",
   "source": [
    "## Análise de usuários mais presentes em grupos"
   ],
   "metadata": {
    "collapsed": false
   },
   "id": "7dbfc87f876cd31c"
  },
  {
   "cell_type": "code",
   "execution_count": null,
   "outputs": [],
   "source": [
    "messages = pd.read_csv('cluster-results/merged_data.tsv', sep='\\t')\n",
    "\n",
    "messages.head()"
   ],
   "metadata": {
    "collapsed": false,
    "is_executing": true,
    "ExecuteTime": {
     "start_time": "2023-11-03T19:04:47.677232728Z"
    }
   },
   "id": "653db182225ed271"
  },
  {
   "cell_type": "code",
   "execution_count": null,
   "outputs": [],
   "source": [
    "messages.groupby('user')"
   ],
   "metadata": {
    "collapsed": false
   },
   "id": "da27833e91d449d8"
  }
 ],
 "metadata": {
  "kernelspec": {
   "display_name": "Python 3",
   "language": "python",
   "name": "python3"
  },
  "language_info": {
   "codemirror_mode": {
    "name": "ipython",
    "version": 2
   },
   "file_extension": ".py",
   "mimetype": "text/x-python",
   "name": "python",
   "nbconvert_exporter": "python",
   "pygments_lexer": "ipython2",
   "version": "2.7.6"
  }
 },
 "nbformat": 4,
 "nbformat_minor": 5
}
